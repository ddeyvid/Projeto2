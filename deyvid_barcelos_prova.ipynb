{
 "cells": [
  {
   "cell_type": "markdown",
   "metadata": {},
   "source": [
    " # 🧪 Prova Prática — UC: Lógica de Programação com Versionamento"
   ]
  },
  {
   "cell_type": "markdown",
   "metadata": {},
   "source": [
    " **Curso:** Assistente de Análise de Dados\n",
    " **Turma:** AIAD 2025/1 INT1 - WA77\n",
    " **Data:** 21/08/2025\n",
    " **Estudante:** Deyvid Barcelos\n",
    " **Docente:** Cláudio Ferreira Neves\n",
    " **Unidade SENAI:** Centro de Educação Profissional SENAI CENTROWEG – SC\n",
    "\n",
    " ---\n",
    "\n",
    " ### 🎯 Objetivo da Avaliação\n",
    " Esta prova prática tem como objetivo verificar a aplicação dos conhecimentos e habilidades desenvolvidos na Unidade Curricular \"Lógica de Programação com Versionamento\". As questões simulam desafios típicos do ambiente profissional, exigindo uso de lógica, estruturas de controle, tipos de dados, boas práticas e justificativas de decisão com base nos fundamentos da programação em Python.\n",
    "\n",
    " ---\n",
    "\n",
    " ### 📊 Escala de Avaliação\n",
    " - **0,0 a 6,9** → Inapto\n",
    " - **7,0 a 8,4** → Em Desenvolvimento\n",
    " - **8,5 a 10,0** → Apto\n",
    "\n",
    " ---\n",
    "\n",
    " ### ✅ Capacidades Avaliadas\n",
    " - **C1**: Aplicar técnicas de codificação para resolver problemas simples\n",
    " - **C2**: Reconhecer diferenças entre tipos de algoritmos\n",
    " - **C3**: Reconhecer a estrutura da lógica de programação\n",
    " - **C4**: Utilizar estruturas de algoritmos seguindo boas práticas\n",
    " - **C5**: Reconhecer dados em variáveis (tipos, características e aplicações)\n",
    " - **C6**: Realizar cálculos matemáticos em algoritmos\n",
    " - **C7**: Justificar a lógica e resolver problemas com pensamento crítico\n",
    "\n",
    " ---\n",
    "\n",
    " ### 📌 Instruções Gerais\n",
    " - Responda **diretamente nas células de código** marcadas com `# Responda aqui`.\n",
    " - Use **Python puro** (sem bibliotecas externas).\n",
    " - Organize seu código com nomes claros e comentários objetivos.\n",
    " - Execute cada célula para validar se há erros.\n",
    " - Salve o notebook com seu nome (ex: `nome_sobrenome_prova.ipynb`).\n",
    " - **Envie até [data definida] por [meio de entrega institucional].**\n"
   ]
  },
  {
   "cell_type": "markdown",
   "metadata": {},
   "source": [
    " ## A1 — Você está desenvolvendo um sistema de triagem para um curso técnico. Explique, com exemplos simples, como estruturas de controle (`if`, `elif`, `else`) podem ser usadas para classificar um candidato pela idade. Quais boas práticas você aplicaria nesse cenário?\n",
    "\n",
    " **Capacidades:** C3, C4, C1"
   ]
  },
  {
   "cell_type": "code",
   "execution_count": 1,
   "metadata": {},
   "outputs": [
    {
     "name": "stdout",
     "output_type": "stream",
     "text": [
      "Criança\n"
     ]
    }
   ],
   "source": [
    "#Definição de Variável em INT\n",
    "idade = 14\n",
    "\n",
    "#Início Condicional se variável 'idade' for menor ou igual a 14 ela retorna 'Menor de Idade'\n",
    "if idade <= 14:\n",
    "    print('Criança')\n",
    "#Caso Estiver entre 15 a 17 anos (o segundo valor do range tem que sempre considerar um a menos, já que o stop não é contabilizado) ele retorna 'Adolescente'\n",
    "elif idade in range(15,18):\n",
    "    print('Adolescente')\n",
    "# Se nenhuma das condicionais baterem ele retorna como maior de idade, e sim testei o codigo e nao tem problema deixar a idade negativa.\n",
    "else:\n",
    "    print('Adulto')\n"
   ]
  },
  {
   "cell_type": "markdown",
   "metadata": {},
   "source": [
    " ## A2 — Em um relatório de vendas semanais, você precisa somar os valores de cada dia. Descreva quando você usaria `for` e quando `while`. Depois, escreva um código que percorre uma lista com os valores de cada dia e calcula o total.\n",
    "\n",
    " **Capacidades:** C3, C1"
   ]
  },
  {
   "cell_type": "code",
   "execution_count": 2,
   "metadata": {},
   "outputs": [
    {
     "name": "stdout",
     "output_type": "stream",
     "text": [
      "310 310\n"
     ]
    }
   ],
   "source": [
    "vendas = [14, 20, 10, 30, 40, 50, 60, 78, 5, 3] # Definição da Variável das vendas de 2 semanas úteis.\n",
    "i, soma, soma2 = 0, 0, 0 # Inicialização das Variáveis inicialmente 'placeholders'\n",
    "\n",
    "#Utilizaria o loop While quando as vendas a utilização do Loop *for* fosse inviável por razões de performance ou a pedido de gestores.\n",
    "while i != vendas.__len__():\n",
    "    soma += vendas[i]\n",
    "    i += 1\n",
    "\n",
    "#Utilizaria o loop For grande parte das vezes, pois possui métodos já inclusos que tenho que adaptar manualmente no loop while.\n",
    "for item in vendas:\n",
    "    soma2 += item\n",
    "\n",
    "print(soma, soma2)\n"
   ]
  },
  {
   "cell_type": "markdown",
   "metadata": {},
   "source": [
    " ## A3 — Defina o que é uma variável e compare tipos básicos em Python (int, float, str, bool). Como a escolha do tipo impacta seu algoritmo ao registrar dados de um cliente?\n",
    "\n",
    " **Capacidades:** C5, C1"
   ]
  },
  {
   "cell_type": "code",
   "execution_count": 4,
   "metadata": {},
   "outputs": [],
   "source": [
    "#INT\n",
    "#Tipo de valor numérico básico no python, somente pode guardar números sem casa decimal, possui suporte para números negativos e positivos.\n",
    "i = 2\n",
    "\n",
    "#FLOAT\n",
    "#Tipo de valor númerico avançado do python, pode guardar números com 'n' casas decimais, possui suporte para números negativos e positivos sendo eles inteiros ou não.\n",
    "f = 3.14 \n",
    "\n",
    "#STRING\n",
    "#Tipo de dado TEXTO do python, possui suas funções para manipulação de dados pré inclusa, não possui suporte para operações matemáticas sem conversão.\n",
    "s = '3.14'\n",
    "\n",
    "#BOOLEAN\n",
    "#Tipo de dados mais próximo de BIT, podendo ser APENAS Verdadeiro ou Falso, sem meio termo. Ótima Escolha para definição de características de um código caso precise.\n",
    "b = True\n",
    "\n",
    "# A Escolha Certa do tipo da Variável impacta diretamente no código, já que cada tipo de variável possui suas próprias limitações. \n",
    "# Exemplo: Eu preciso armazenar um número inteiro, devo usar 'int', mas se precisar de um número com casas decimais, devo usar 'float'.\n",
    "# Se eu tentar realizar operações matemáticas com uma 'str', terei que convertê-la para 'int' ou 'float', o que pode gerar erros se não for feito corretamente."
   ]
  },
  {
   "cell_type": "markdown",
   "metadata": {},
   "source": [
    " ## A4 — Qual a importância do **teste de mesa**? Simule um para um algoritmo que calcula a média de 3 notas e classifica como Aprovado/Reprovado. Preencha uma tabela com: Nota1 | Nota2 | Nota3 | Média | Resultado.\n",
    "\n",
    " **Capacidades:** C7, C6, C1"
   ]
  },
  {
   "cell_type": "code",
   "execution_count": 5,
   "metadata": {},
   "outputs": [
    {
     "name": "stdout",
     "output_type": "stream",
     "text": [
      "Reprovado\n"
     ]
    }
   ],
   "source": [
    "notas = list(map(float, input('Notas: ').split())) # Já separa por espaço as notas, fazendo se assim uma SPACE SEPARATED VALUES (SSV) para o usuário digitar as notas, o que é considerado uma tabela.\n",
    "media = sum(notas) / notas.__len__()\n",
    "\n",
    "print('Aprovado' if media >= 7 else 'Reprovado')\n"
   ]
  },
  {
   "cell_type": "markdown",
   "metadata": {},
   "source": [
    " ## A5 — Explique o uso de **funções** e a vantagem da modularização, especialmente em códigos maiores. Depois, codifique uma função `media2(a, b)` que retorna a média de duas notas.\n",
    "\n",
    " **Capacidades:** C4, C1"
   ]
  },
  {
   "cell_type": "code",
   "execution_count": 6,
   "metadata": {},
   "outputs": [
    {
     "name": "stdout",
     "output_type": "stream",
     "text": [
      "1.5\n"
     ]
    }
   ],
   "source": [
    "# Funções: Blocos de códigos reutilizáveis que pode receber um ou mais parâmetros ou não, e retornar um valor. Serve para organizar e reciclar funções no código.\n",
    "def media2(a, b):\n",
    "    return (a + b) / 2\n",
    "\n",
    "print(media2(1, 2))"
   ]
  },
  {
   "cell_type": "markdown",
   "metadata": {},
   "source": [
    " ## A6 — Ao programar o cadastro de um cliente em um sistema bancário, quando é melhor usar um algoritmo sequencial e quando usar um com decisões (`if`)? Dê exemplos de código para ambos.\n",
    "\n",
    " **Capacidades:** C2, C3"
   ]
  },
  {
   "cell_type": "code",
   "execution_count": 8,
   "metadata": {},
   "outputs": [
    {
     "name": "stdout",
     "output_type": "stream",
     "text": [
      "\n",
      " Nome: João \n",
      " Idade: 30 \n",
      " Saldo: -100\n",
      "-------------------------------------------------------\n",
      "Saldo negativo, cliente precisa regularizar a situação.\n"
     ]
    }
   ],
   "source": [
    "def cadastroCliente(nome, idade, saldo):\n",
    "    # Algoritmo Sequencial, ou seja, executa as instruções na ordem em que foram escritas.\n",
    "    print(f\"\\n Nome: {nome} \\n Idade: {idade} \\n Saldo: {saldo}\")\n",
    "    print('-' * 55)\n",
    "    # Algoritmo com Decisão, no caso Sendo Condicional de saldo\n",
    "    if saldo < 0:\n",
    "        print(\"Saldo negativo, cliente precisa regularizar a situação.\")\n",
    "    else:\n",
    "        print(\"Cliente cadastrado com sucesso!\")\n",
    "\n",
    "cadastroCliente(\"João\", 30, -100)  # Exemplo de uso do algoritmo com decisão"
   ]
  },
  {
   "cell_type": "markdown",
   "metadata": {},
   "source": [
    " ## A7 — Você recebeu um código com um erro lógico (resultado incorreto). Explique como faria a depuração passo a passo. Mostre uma versão corrigida e comente como o controle lógico influenciou na correção.\n",
    "\n",
    " **Capacidades:** C1, C7"
   ]
  },
  {
   "cell_type": "code",
   "execution_count": 9,
   "metadata": {},
   "outputs": [
    {
     "ename": "TypeError",
     "evalue": "unsupported operand type(s) for +: 'int' and 'str'",
     "output_type": "error",
     "traceback": [
      "\u001b[31m---------------------------------------------------------------------------\u001b[39m",
      "\u001b[31mTypeError\u001b[39m                                 Traceback (most recent call last)",
      "\u001b[36mCell\u001b[39m\u001b[36m \u001b[39m\u001b[32mIn[9]\u001b[39m\u001b[32m, line 6\u001b[39m\n\u001b[32m      3\u001b[39m \u001b[38;5;28;01mdef\u001b[39;00m\u001b[38;5;250m \u001b[39m\u001b[34mmedia3\u001b[39m(a, b): \u001b[38;5;66;03m#type: ignore\u001b[39;00m\n\u001b[32m      4\u001b[39m     \u001b[38;5;28;01mreturn\u001b[39;00m (a + b) / \u001b[32m2\u001b[39m\n\u001b[32m----> \u001b[39m\u001b[32m6\u001b[39m \u001b[38;5;28mprint\u001b[39m(\u001b[43mmedia3\u001b[49m\u001b[43m(\u001b[49m\u001b[32;43m1\u001b[39;49m\u001b[43m,\u001b[49m\u001b[43m \u001b[49m\u001b[33;43m'\u001b[39;49m\u001b[33;43m2\u001b[39;49m\u001b[33;43m'\u001b[39;49m\u001b[43m)\u001b[49m)\n\u001b[32m      8\u001b[39m \u001b[38;5;66;03m# Código com tratamento de erro lógico\u001b[39;00m\n\u001b[32m      9\u001b[39m \u001b[38;5;28;01mdef\u001b[39;00m\u001b[38;5;250m \u001b[39m\u001b[34mmedia3\u001b[39m(a, b):\n",
      "\u001b[36mCell\u001b[39m\u001b[36m \u001b[39m\u001b[32mIn[9]\u001b[39m\u001b[32m, line 4\u001b[39m, in \u001b[36mmedia3\u001b[39m\u001b[34m(a, b)\u001b[39m\n\u001b[32m      3\u001b[39m \u001b[38;5;28;01mdef\u001b[39;00m\u001b[38;5;250m \u001b[39m\u001b[34mmedia3\u001b[39m(a, b): \u001b[38;5;66;03m#type: ignore\u001b[39;00m\n\u001b[32m----> \u001b[39m\u001b[32m4\u001b[39m     \u001b[38;5;28;01mreturn\u001b[39;00m (\u001b[43ma\u001b[49m\u001b[43m \u001b[49m\u001b[43m+\u001b[49m\u001b[43m \u001b[49m\u001b[43mb\u001b[49m) / \u001b[32m2\u001b[39m\n",
      "\u001b[31mTypeError\u001b[39m: unsupported operand type(s) for +: 'int' and 'str'"
     ]
    }
   ],
   "source": [
    "# Exemplo de código com erro lógico\n",
    "def media3(a, b): #type: ignore\n",
    "    return (a + b) / 2\n",
    "\n",
    "print(media3(1, '2'))\n",
    "\n",
    "# Código com tratamento de erro lógico\n",
    "def media3(a, b):\n",
    "    try:\n",
    "        return (a + b) / 2\n",
    "    except TypeError:\n",
    "        a, b = float(a), float(b)\n",
    "        return (a + b) / 2\n",
    "\n",
    "print(media3(1, 2))\n"
   ]
  },
  {
   "cell_type": "markdown",
   "metadata": {},
   "source": [
    " ## A8 — Como listas e dicionários ajudam em problemas reais de programação? Mostre um exemplo de sistema para registrar alunos e notas e, depois, imprimir os aprovados.\n",
    "\n",
    " **Capacidades:** C1, C5, C7\n",
    " Definição da Lista de Alunos"
   ]
  },
  {
   "cell_type": "code",
   "execution_count": 10,
   "metadata": {},
   "outputs": [
    {
     "name": "stdout",
     "output_type": "stream",
     "text": [
      "João foi aprovado com nota 7.5.\n",
      "Maria foi aprovado com nota 8.0.\n",
      "Pedro foi reprovado com nota 6.0.\n",
      "Ana foi aprovado com nota 9.5.\n"
     ]
    }
   ],
   "source": [
    "alunos = [{\"nome\": \"João\", \"nota\": 7.5}, {\"nome\": \"Maria\", \"nota\": 8.0}, {\"nome\": \"Pedro\", \"nota\": 6.0}, {\"nome\": \"Ana\", \"nota\": 9.5}]\n",
    "# Loop Repetição for para verificar a lista de alunos e verificar se foram aprovados ou não\n",
    "for aluno in alunos:\n",
    "    if aluno[\"nota\"] >= 7:\n",
    "        print(f\"{aluno['nome']} foi aprovado com nota {aluno['nota']}.\")\n",
    "    else:\n",
    "        print(f\"{aluno['nome']} foi reprovado com nota {aluno['nota']}.\")\n"
   ]
  },
  {
   "cell_type": "markdown",
   "metadata": {},
   "source": [
    " ## A9 — Imagine um sistema de RH que precisa localizar um CPF na lista de colaboradores. Explique o conceito de busca linear e implemente uma função que retorne o índice do CPF ou -1.\n",
    "\n",
    " **Capacidades:** C2, C3, C7"
   ]
  },
  {
   "cell_type": "code",
   "execution_count": 11,
   "metadata": {},
   "outputs": [
    {
     "name": "stdout",
     "output_type": "stream",
     "text": [
      "O CPF está localizado no índice: 1\n"
     ]
    }
   ],
   "source": [
    "#Entrada do Usuário Já com Tratamento de Dados para carregar diretamente na função\n",
    "busca = int(input(\"Qual CPF Deseja Localizar?: \").strip().replace('.', '').replace('-', '')[:11])\n",
    "\n",
    "#Função para localizar o CPF na lista percorrendo a mesma.\n",
    "#Se o CPF bater com o input, retorna o CPF, caso não, retorna -1\n",
    "def localizar_cpf(lista, cpf):\n",
    "    for i in range(len(lista)):\n",
    "        if lista[i] == cpf:\n",
    "            return i\n",
    "    return -1\n",
    "\n",
    "# Lista de CPFs genéricos\n",
    "lista_cpf = [12345678900, 98765432100, 11223344556, 99887766554]\n",
    "indice = localizar_cpf(lista_cpf, busca)\n",
    "print(f'O CPF está localizado no índice: {indice}' if indice != -1 else 'CPF não encontrado na lista.')"
   ]
  },
  {
   "cell_type": "markdown",
   "metadata": {},
   "source": [
    " ## A10 — Pensando no seu aprendizado durante esta unidade curricular, comente brevemente: o que você sentiu mais facilidade? E qual foi o maior desafio? (resposta reflexiva)\n",
    "\n",
    " **Capacidades:** C7"
   ]
  },
  {
   "cell_type": "code",
   "execution_count": null,
   "metadata": {},
   "outputs": [],
   "source": [
    "# Já Sabia do Conteúdo antes de entrar no Curso. Poderia ter tido Git para versionamento de código e mais exercícios complexos do que simples."
   ]
  },
  {
   "cell_type": "markdown",
   "metadata": {},
   "source": [
    " ---\n",
    " # Parte B — Questões Objetivas\n",
    " **Instruções:** Defina `resposta = \"X\"` para cada questão (exemplo: resposta = \"A\")\n"
   ]
  },
  {
   "cell_type": "markdown",
   "metadata": {},
   "source": [
    " ## B1 — Qual das alternativas é boa prática ao usar funções em Python?\n",
    "\n",
    " - A) Usar nomes genéricos (func1, func2)\n",
    " - B) Colocar todo o código em uma única função\n",
    " - C) Usar nomes descritivos e funções pequenas\n",
    " - D) Funções longas resolvendo vários problemas\n",
    "\n",
    " **Capacidade:** C4"
   ]
  },
  {
   "cell_type": "code",
   "execution_count": 12,
   "metadata": {},
   "outputs": [],
   "source": [
    "resposta = \"D\""
   ]
  },
  {
   "cell_type": "markdown",
   "metadata": {},
   "source": [
    " ## B2 — Quais estruturas alteram o fluxo do algoritmo?\n",
    "\n",
    " - A) if, for, while\n",
    " - B) and, or, not\n",
    " - C) input(), print(), return()\n",
    " - D) try, except, finally\n",
    "\n",
    " **Capacidade:** C3"
   ]
  },
  {
   "cell_type": "code",
   "execution_count": null,
   "metadata": {},
   "outputs": [],
   "source": [
    "resposta = \"A\""
   ]
  },
  {
   "cell_type": "markdown",
   "metadata": {},
   "source": [
    " ## B3 — Forma correta de atribuir inteiro 10 a uma variável:\n",
    "\n",
    " - A) int var = 10\n",
    " - B) var = 10\n",
    " - C) var = \"10\"\n",
    " - D) int = 10\n",
    "\n",
    " **Capacidade:** C5"
   ]
  },
  {
   "cell_type": "code",
   "execution_count": null,
   "metadata": {},
   "outputs": [],
   "source": [
    "resposta = \"B\""
   ]
  },
  {
   "cell_type": "markdown",
   "metadata": {},
   "source": [
    " ## B4 — Quando preferir `while`?\n",
    "\n",
    " - A) Quando você sabe o número exato de repetições\n",
    " - B) Para número fixo de repetições\n",
    " - C) Quando a condição depende de fator variável\n",
    " - D) Para garantir que não repita\n",
    "\n",
    " **Capacidade:** C3"
   ]
  },
  {
   "cell_type": "code",
   "execution_count": null,
   "metadata": {},
   "outputs": [],
   "source": [
    "resposta = \"C\""
   ]
  },
  {
   "cell_type": "markdown",
   "metadata": {},
   "source": [
    " ## B5 — Diferença entre `int` e `float`:\n",
    "\n",
    " - A) int: inteiros; float: decimais\n",
    " - B) int armazena números maiores que float\n",
    " - C) São idênticos\n",
    " - D) Nenhuma\n",
    "\n",
    " **Capacidade:** C5"
   ]
  },
  {
   "cell_type": "code",
   "execution_count": null,
   "metadata": {},
   "outputs": [],
   "source": [
    "resposta = \"A\""
   ]
  },
  {
   "cell_type": "markdown",
   "metadata": {},
   "source": [
    " ## B6 — Exemplo de função em Python:\n",
    "\n",
    " - A) def soma(a, b): return a + b\n",
    " - B) for i in range(10): print(i)\n",
    " - C) x = input(\"Digite algo\")\n",
    " - D) if x > 5: print(\"Maior que 5\")\n",
    "\n",
    " **Capacidade:** C3"
   ]
  },
  {
   "cell_type": "code",
   "execution_count": null,
   "metadata": {},
   "outputs": [],
   "source": [
    "resposta = \"A\""
   ]
  },
  {
   "cell_type": "markdown",
   "metadata": {},
   "source": [
    " ## B7 — Estrutura ideal para chave-valor:\n",
    "\n",
    " - A) Lista\n",
    " - B) Tupla\n",
    " - C) Dicionário\n",
    " - D) Conjunto\n",
    "\n",
    " **Capacidade:** C5"
   ]
  },
  {
   "cell_type": "code",
   "execution_count": null,
   "metadata": {},
   "outputs": [],
   "source": [
    "resposta = \"C\""
   ]
  },
  {
   "cell_type": "markdown",
   "metadata": {},
   "source": [
    " ## B8 — Boa prática ao escrever código:\n",
    "\n",
    " - A) Evitar nomes descritivos\n",
    " - B) Evitar funções\n",
    " - C) Comentar partes do código\n",
    " - D) Funções longas para tudo\n",
    "\n",
    " **Capacidade:** C4"
   ]
  },
  {
   "cell_type": "code",
   "execution_count": null,
   "metadata": {},
   "outputs": [],
   "source": [
    "resposta = \"C\""
   ]
  },
  {
   "cell_type": "markdown",
   "metadata": {},
   "source": [
    " ## B9 — Vantagem do Bubble Sort:\n",
    "\n",
    " - A) Eficiente para grande volume\n",
    " - B) Fácil de entender, mas ineficiente em grandes dados\n",
    " - C) Tempo constante\n",
    " - D) Nenhuma\n",
    "\n",
    " **Capacidade:** C2"
   ]
  },
  {
   "cell_type": "code",
   "execution_count": null,
   "metadata": {},
   "outputs": [],
   "source": [
    "resposta = \"B\""
   ]
  },
  {
   "cell_type": "markdown",
   "metadata": {},
   "source": [
    " ## B10 — Função do comando `input()` em Python:\n",
    "\n",
    " - A) Processar dados\n",
    " - B) Declarar variáveis\n",
    " - C) Executar laços\n",
    " - D) Receber dados do usuário\n",
    "\n",
    " **Capacidade:** C5"
   ]
  },
  {
   "cell_type": "code",
   "execution_count": null,
   "metadata": {},
   "outputs": [],
   "source": [
    "resposta = \"D\""
   ]
  }
 ],
 "metadata": {
  "kernelspec": {
   "display_name": ".venv",
   "language": "python",
   "name": "python3"
  },
  "language_info": {
   "codemirror_mode": {
    "name": "ipython",
    "version": 3
   },
   "file_extension": ".py",
   "mimetype": "text/x-python",
   "name": "python",
   "nbconvert_exporter": "python",
   "pygments_lexer": "ipython3",
   "version": "3.12.5"
  }
 },
 "nbformat": 4,
 "nbformat_minor": 2
}
