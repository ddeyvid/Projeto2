{
 "cells": [
  {
   "cell_type": "markdown",
   "id": "24daf9a1",
   "metadata": {},
   "source": [
    "\n",
    "# 📘 Avaliação de Algoritmos — 50 Questões (com dicas)\n",
    "**Como usar:**  \n",
    "- Resolva **uma questão por vez**.  \n",
    "- Leia a **Tarefa** e as **Dicas** na célula de código.  \n",
    "- Escreva sua solução abaixo do comentário: `# Escreva seu código abaixo:`  \n",
    "- Use **Python puro** (sem bibliotecas externas).\n"
   ]
  },
  {
   "cell_type": "markdown",
   "id": "c2ce0434",
   "metadata": {},
   "source": [
    "---\n",
    "## Organização das questões\n",
    "- 10 Entrada/Saída\n",
    "- 10 Condicionais\n",
    "- 10 Laços\n",
    "- 10 Listas/Strings/Dicionários\n",
    "- 10 Funções/Integração"
   ]
  },
  {
   "cell_type": "markdown",
   "id": "9d5041d1",
   "metadata": {},
   "source": [
    "## Questão 1\n",
    "Peça ao usuário seu nome e exiba uma mensagem de boas-vindas."
   ]
  },
  {
   "cell_type": "code",
   "execution_count": 1,
   "id": "aa789e4b",
   "metadata": {},
   "outputs": [
    {
     "name": "stdout",
     "output_type": "stream",
     "text": [
      "Olá Teste!\n"
     ]
    }
   ],
   "source": [
    "# Tarefa: Peça ao usuário seu nome e exiba uma mensagem de boas-vindas.\n",
    "# Dica 1: use input() para ler; armazene em uma variável; use print() ou f-string para mostrar.\n",
    "# Escreva seu código abaixo:\n",
    "def q1():\n",
    "    nome = input(\"Qual o Seu Nome?: \")\n",
    "    print(f\"Olá {nome}!\")"
   ]
  },
  {
   "cell_type": "markdown",
   "id": "1ccb060e",
   "metadata": {},
   "source": [
    "## Questão 2\n",
    "Peça ao usuário seu nome e idade e exiba: 'Nome: X, Idade: Y'."
   ]
  },
  {
   "cell_type": "code",
   "execution_count": null,
   "id": "85afef91",
   "metadata": {},
   "outputs": [],
   "source": [
    "# Tarefa: Peça ao usuário seu nome e idade e exiba: 'Nome: X, Idade: Y'.\n",
    "# Dica 1: leia duas entradas com input()\n",
    "# Dica 2: converta idade para int()\n",
    "# Dica 3: formate com f-string.\n",
    "# Escreva seu código abaixo:\n",
    "def q2():\n",
    "    nome, idade = input(\"Qual o Seu Nome?: \"), int(input(\"Qual a Sua Idade?: \"))\n",
    "    print(f\"Nome: {nome}, Idade: {idade}\")"
   ]
  },
  {
   "cell_type": "markdown",
   "id": "4079e82b",
   "metadata": {},
   "source": [
    "## Questão 3\n",
    "Solicite o nome do curso e mostre: 'Você está matriculado no curso X'."
   ]
  },
  {
   "cell_type": "code",
   "execution_count": null,
   "id": "8beee7d7",
   "metadata": {},
   "outputs": [],
   "source": [
    "# Tarefa: Solicite o nome do curso e mostre: 'Você está matriculado no curso X'.\n",
    "# Dica 1: guarde a string lida\n",
    "# Dica 2: use print() com concatenação ou f-string.\n",
    "# Escreva seu código abaixo:\n",
    "def q3():\n",
    "    curso = input(\"Qual o Curso?: \")\n",
    "    print(f\"Você está matriculado no curso {curso}\")"
   ]
  },
  {
   "cell_type": "markdown",
   "id": "c17fd9fb",
   "metadata": {},
   "source": [
    "## Questão 4\n",
    "Leia dois números e exiba a soma."
   ]
  },
  {
   "cell_type": "code",
   "execution_count": null,
   "id": "2bfe2ac1",
   "metadata": {},
   "outputs": [],
   "source": [
    "# Tarefa: Leia dois números e exiba a soma.\n",
    "# Dica 1: use float() ou int() para converter\n",
    "# Dica 2: some e imprima o resultado.\n",
    "# Escreva seu código abaixo:\n",
    "def q4():\n",
    "    n1, n2 = float(input(\"Digite o Número 1:\")), float(input(\"Digite o Número 2:\"))\n",
    "    print(f\"Soma: {n1+n2}\")"
   ]
  },
  {
   "cell_type": "markdown",
   "id": "9252c5f4",
   "metadata": {},
   "source": [
    "## Questão 5\n",
    "Leia dois números e exiba a subtração (primeiro - segundo)."
   ]
  },
  {
   "cell_type": "code",
   "execution_count": null,
   "id": "c227b057",
   "metadata": {},
   "outputs": [],
   "source": [
    "# Tarefa: Leia dois números e exiba a subtração (primeiro - segundo).\n",
    "# Dica 1: converta entrada para número\n",
    "# Dica 2: subtraia e exiba.\n",
    "# Escreva seu código abaixo:\n",
    "def q5():\n",
    "    n1, n2 = float(input(\"Digite o Número 1:\")), float(input(\"Digite o Número 2:\"))\n",
    "    print(f\"Subtração: {n1-n2}\")"
   ]
  },
  {
   "cell_type": "markdown",
   "id": "4db614fe",
   "metadata": {},
   "source": [
    "## Questão 6\n",
    "Leia dois números e exiba a multiplicação."
   ]
  },
  {
   "cell_type": "code",
   "execution_count": null,
   "id": "b7101765",
   "metadata": {},
   "outputs": [],
   "source": [
    "# Tarefa: Leia dois números e exiba a multiplicação.\n",
    "# Dica 1: use * para multiplicar\n",
    "# Dica 2: formate a saída com f-string.\n",
    "# Escreva seu código abaixo:\n",
    "def q6():\n",
    "    n1, n2 = float(input(\"Digite o Número 1:\")), float(input(\"Digite o Número 2:\"))\n",
    "    print(f\"Subtração: {n1*n2}\")"
   ]
  },
  {
   "cell_type": "markdown",
   "id": "60ac69cf",
   "metadata": {},
   "source": [
    "## Questão 7\n",
    "Leia dois números e exiba a divisão (tratando divisão por zero)."
   ]
  },
  {
   "cell_type": "code",
   "execution_count": 9,
   "id": "0cc0e8a9",
   "metadata": {},
   "outputs": [
    {
     "name": "stdout",
     "output_type": "stream",
     "text": [
      "Divisão Por 0\n"
     ]
    }
   ],
   "source": [
    "# Tarefa: Leia dois números e exiba a divisão (tratando divisão por zero).\n",
    "# Dica 1: antes de dividir, verifique se o divisor é 0\n",
    "# Dica 2: use if/else.\n",
    "# Escreva seu código abaixo:\n",
    "def q7():\n",
    "    n1, n2 = float(input(\"Dividendo:\")), float(input(\"Divisor:\"))\n",
    "    if n2 % n1 == 0:\n",
    "        print('Divisão Por 0')\n",
    "    else:\n",
    "        print(f\"Divisão: {n1/n2}\")"
   ]
  },
  {
   "cell_type": "markdown",
   "id": "60f7920a",
   "metadata": {},
   "source": [
    "## Questão 8\n",
    "Peça um número e mostre seu dobro."
   ]
  },
  {
   "cell_type": "code",
   "execution_count": 11,
   "id": "416e0b37",
   "metadata": {},
   "outputs": [
    {
     "name": "stdout",
     "output_type": "stream",
     "text": [
      "Dobro: 2.0\n"
     ]
    }
   ],
   "source": [
    "# Tarefa: Peça um número e mostre seu dobro.\n",
    "# Dica 1: converta para int() ou float()\n",
    "# Dica 2: resultado = numero * 2.\n",
    "# Escreva seu código abaixo:\n",
    "def q8():\n",
    "    num1 = float(input(\"Número: \"))\n",
    "    print(f'Dobro: {num1*2}')"
   ]
  },
  {
   "cell_type": "markdown",
   "id": "ce50ed66",
   "metadata": {},
   "source": [
    "## Questão 9\n",
    "Peça um número e mostre o quadrado."
   ]
  },
  {
   "cell_type": "code",
   "execution_count": null,
   "id": "c1c0f02c",
   "metadata": {},
   "outputs": [],
   "source": [
    "# Tarefa: Peça um número e mostre o quadrado.\n",
    "# Dica 1: use operador ** 2\n",
    "# Dica 2: imprima o resultado.\n",
    "# Escreva seu código abaixo:\n",
    "def q9():\n",
    "    num1 = float(input(\"Número: \"))\n",
    "    print(f'Quadrado: {num1**2}')\n",
    "q9()"
   ]
  },
  {
   "cell_type": "markdown",
   "id": "49b9dfb1",
   "metadata": {},
   "source": [
    "## Questão 10\n",
    "Peça um número e mostre o resto da divisão por 3."
   ]
  },
  {
   "cell_type": "code",
   "execution_count": null,
   "id": "20de2925",
   "metadata": {},
   "outputs": [],
   "source": [
    "# Tarefa: Peça um número e mostre o resto da divisão por 3.\n",
    "# Dica 1: use operador %\n",
    "# Dica 2: ex.: resto = n % 3.\n",
    "# Escreva seu código abaixo:\n",
    "def q10():\n",
    "    n1 = float(input(\"Número: \"))\n",
    "    print(f\"Divisão: {n1 % 3}\")"
   ]
  },
  {
   "cell_type": "markdown",
   "id": "b52ef79a",
   "metadata": {},
   "source": [
    "## Questão 11\n",
    "Peça uma idade e informe se é maior ou menor de idade (>=18)."
   ]
  },
  {
   "cell_type": "code",
   "execution_count": null,
   "id": "df3677f5",
   "metadata": {},
   "outputs": [],
   "source": [
    "# Tarefa: Peça uma idade e informe se é maior ou menor de idade (>=18).\n",
    "# Dica 1: use if idade >= 18\n",
    "# Dica 2: caso contrário, menor de idade.\n",
    "# Escreva seu código abaixo:\n",
    "def q11():\n",
    "    idade = int(input(\"Qual a sua Idade?: \"))\n",
    "    if idade >= 18:\n",
    "        print(\"Maior de Idade\")\n",
    "    else:\n",
    "        print(\"Menor de Idade\")"
   ]
  },
  {
   "cell_type": "markdown",
   "id": "2525a38e",
   "metadata": {},
   "source": [
    "## Questão 12\n",
    "Leia um número e informe se ele é positivo, negativo ou zero."
   ]
  },
  {
   "cell_type": "code",
   "execution_count": null,
   "id": "40c018cd",
   "metadata": {},
   "outputs": [],
   "source": [
    "# Tarefa: Leia um número e informe se ele é positivo, negativo ou zero.\n",
    "# Dica 1: if/elif/else com comparações > 0, < 0, == 0.\n",
    "# Escreva seu código abaixo:\n",
    "def q12():\n",
    "    n1 = float(input(\"Número: \"))\n",
    "    if n1 > 0:\n",
    "        print(\"Número Positivo\")\n",
    "    elif n1 < 0:\n",
    "        print(\"Número Negativo\")\n",
    "    else:\n",
    "        print(\"Número 0\")"
   ]
  },
  {
   "cell_type": "markdown",
   "id": "4f3f06e4",
   "metadata": {},
   "source": [
    "## Questão 13\n",
    "Peça duas notas e informe se está aprovado (média >= 7)."
   ]
  },
  {
   "cell_type": "code",
   "execution_count": null,
   "id": "5c3a1d86",
   "metadata": {},
   "outputs": [],
   "source": [
    "# Tarefa: Peça duas notas e informe se está aprovado (média >= 7).\n",
    "# Dica 1: calcule média\n",
    "# Dica 2: use if média >= 7.\n",
    "# Escreva seu código abaixo:\n",
    "def q13():\n",
    "    n1, n2 = float(input(\"Nota 1: \")) , float(input(\"Nota 2: \"))\n",
    "    media = n1/n2\n",
    "    if media >= 7:\n",
    "        print(\"Aprovado\")\n",
    "    else:\n",
    "        print(\"Reprovado\")\n"
   ]
  },
  {
   "cell_type": "markdown",
   "id": "dff587e4",
   "metadata": {},
   "source": [
    "## Questão 14\n",
    "Peça um número e informe se é par ou ímpar."
   ]
  },
  {
   "cell_type": "code",
   "execution_count": 14,
   "id": "19ec2bca",
   "metadata": {},
   "outputs": [
    {
     "data": {
      "text/plain": [
       "False"
      ]
     },
     "execution_count": 14,
     "metadata": {},
     "output_type": "execute_result"
    }
   ],
   "source": [
    "# Tarefa: Peça um número e informe se é par ou ímpar.\n",
    "# Dica 1: use n % 2 == 0 para par.\n",
    "# Escreva seu código abaixo:\n",
    "def q14():\n",
    "    n1 = float(input(\"Número: \"))\n",
    "    return n1 % 2 == 0"
   ]
  },
  {
   "cell_type": "markdown",
   "id": "1cad925d",
   "metadata": {},
   "source": [
    "## Questão 15\n",
    "Peça um ano e informe se é bissexto."
   ]
  },
  {
   "cell_type": "code",
   "execution_count": 22,
   "id": "4fe7db6a",
   "metadata": {},
   "outputs": [
    {
     "data": {
      "text/plain": [
       "False"
      ]
     },
     "execution_count": 22,
     "metadata": {},
     "output_type": "execute_result"
    }
   ],
   "source": [
    "# Tarefa: Peça um ano e informe se é bissexto.\n",
    "# Dica 1: regra simples: ano % 4 == 0 e (ano % 100 != 0 ou ano % 400 == 0).\n",
    "# Escreva seu código abaixo:\n",
    "def q15():\n",
    "    ano = int(input(\"Ano: \"))\n",
    "    return ano % 4 == 0"
   ]
  },
  {
   "cell_type": "markdown",
   "id": "5dc9ad73",
   "metadata": {},
   "source": [
    "## Questão 16\n",
    "Peça uma senha e valide se é igual a '1234'."
   ]
  },
  {
   "cell_type": "code",
   "execution_count": null,
   "id": "17dcfe38",
   "metadata": {},
   "outputs": [],
   "source": [
    "# Tarefa: Peça uma senha e valide se é igual a '1234'.\n",
    "# Dica 1: compare strings\n",
    "# Dica 2: use if senha == '1234'.\n",
    "# Escreva seu código abaixo:\n",
    "def q16():\n",
    "    senha = input(\"Senha: \")\n",
    "    return senha == '1234'"
   ]
  },
  {
   "cell_type": "markdown",
   "id": "b125d946",
   "metadata": {},
   "source": [
    "## Questão 17\n",
    "Peça um nome e verifique se é 'Carlos' (ignorar maiúsculas/minúsculas)."
   ]
  },
  {
   "cell_type": "code",
   "execution_count": null,
   "id": "60974973",
   "metadata": {},
   "outputs": [],
   "source": [
    "# Tarefa: Peça um nome e verifique se é 'Carlos' (ignorar maiúsculas/minúsculas).\n",
    "# Dica 1: use .strip() e .lower() para normalizar.\n",
    "# Escreva seu código abaixo:\n",
    "def q17():\n",
    "    nome = input(\"Nome: \").strip().title()\n",
    "    return nome == 'Carlos'\n",
    "q17()"
   ]
  },
  {
   "cell_type": "markdown",
   "id": "9e1e6d12",
   "metadata": {},
   "source": [
    "## Questão 18\n",
    "Leia três números e informe o maior."
   ]
  },
  {
   "cell_type": "code",
   "execution_count": 31,
   "id": "b2c3525c",
   "metadata": {},
   "outputs": [
    {
     "name": "stdout",
     "output_type": "stream",
     "text": [
      "12.0\n"
     ]
    }
   ],
   "source": [
    "# Tarefa: Leia três números e informe o maior.\n",
    "# Dica 1: use comparações ou acompanhe um 'maior' em variáveis.\n",
    "# Escreva seu código abaixo:\n",
    "def q18():\n",
    "    n1, n2, n3 = float(input(\"Número 1: \")), float(input(\"Número 3: \")), float(input(\"Número 3: \"))\n",
    "    print(max(n1, n2, n3))\n",
    "q18()"
   ]
  },
  {
   "cell_type": "markdown",
   "id": "f77a15a8",
   "metadata": {},
   "source": [
    "## Questão 19\n",
    "Leia três números e informe o menor."
   ]
  },
  {
   "cell_type": "code",
   "execution_count": null,
   "id": "669c4e13",
   "metadata": {},
   "outputs": [],
   "source": [
    "# Tarefa: Leia três números e informe o menor.\n",
    "# Dica 1: similar ao maior, mas buscando o menor.\n",
    "# Escreva seu código abaixo:\n",
    "def q19():\n",
    "    n1, n2, n3 = float(input(\"Número 1: \")), float(input(\"Número 3: \")), float(input(\"Número 3: \"))\n",
    "    print(min(n1, n2, n3))\n",
    "q19()"
   ]
  },
  {
   "cell_type": "markdown",
   "id": "158caa2d",
   "metadata": {},
   "source": [
    "## Questão 20\n",
    "Leia a idade e informe: Infantil (<12), Juvenil (12–17) ou Adulto (>=18)."
   ]
  },
  {
   "cell_type": "code",
   "execution_count": null,
   "id": "715ba20d",
   "metadata": {},
   "outputs": [],
   "source": [
    "# Tarefa: Leia a idade e informe: Infantil (<12), Juvenil (12–17) ou Adulto (>=18).\n",
    "# Dica 1: use if/elif/else com intervalos.\n",
    "# Escreva seu código abaixo:\n",
    "def q20():\n",
    "    idade = int(input(\"Idade: \"))\n",
    "    if idade < 12:\n",
    "        print(\"Infantil\")\n",
    "    elif idade in range(12, 18):\n",
    "        print(\"Juvenil\")\n",
    "    else:\n",
    "        print(\"Adulto\")\n",
    "q20()"
   ]
  },
  {
   "cell_type": "markdown",
   "id": "055b1e2d",
   "metadata": {},
   "source": [
    "## Questão 21\n",
    "Exiba os números de 1 a 10 usando for."
   ]
  },
  {
   "cell_type": "code",
   "execution_count": 35,
   "id": "de294eed",
   "metadata": {},
   "outputs": [
    {
     "name": "stdout",
     "output_type": "stream",
     "text": [
      "1\n",
      "2\n",
      "3\n",
      "4\n",
      "5\n",
      "6\n",
      "7\n",
      "8\n",
      "9\n",
      "10\n"
     ]
    }
   ],
   "source": [
    "# Tarefa: Exiba os números de 1 a 10 usando for.\n",
    "# Dica 1: use range(1, 11)\n",
    "# Dica 2: imprima um por linha.\n",
    "# Escreva seu código abaixo:\n",
    "def q21():\n",
    "    for i in range(1, 11):\n",
    "        print(i)"
   ]
  },
  {
   "cell_type": "markdown",
   "id": "dbed4c25",
   "metadata": {},
   "source": [
    "## Questão 22\n",
    "Exiba os números pares de 0 a 20 usando for."
   ]
  },
  {
   "cell_type": "code",
   "execution_count": null,
   "id": "f3a84535",
   "metadata": {},
   "outputs": [],
   "source": [
    "# Tarefa: Exiba os números pares de 0 a 20 usando for.\n",
    "# Dica 1: use range(0, 21, 2).\n",
    "# Escreva seu código abaixo:\n",
    "def q22():\n",
    "    for i in range(0, 21, 2):\n",
    "        print(i)"
   ]
  },
  {
   "cell_type": "markdown",
   "id": "57cdc44e",
   "metadata": {},
   "source": [
    "## Questão 23\n",
    "Exiba os números ímpares de 0 a 20 usando while."
   ]
  },
  {
   "cell_type": "code",
   "execution_count": null,
   "id": "c2a3f9ef",
   "metadata": {},
   "outputs": [],
   "source": [
    "# Tarefa: Exiba os números ímpares de 0 a 20 usando while.\n",
    "# Dica 1: inicie em 1\n",
    "# Dica 2: while <= 20; some 2 a cada passo.\n",
    "# Escreva seu código abaixo:\n",
    "def q23():\n",
    "    i = 0\n",
    "    while i <= 20:\n",
    "        print(i)\n",
    "        i +=2"
   ]
  },
  {
   "cell_type": "markdown",
   "id": "87bbadde",
   "metadata": {},
   "source": [
    "## Questão 24\n",
    "Peça um número e exiba a tabuada (1 a 10)."
   ]
  },
  {
   "cell_type": "code",
   "execution_count": null,
   "id": "88a5838d",
   "metadata": {},
   "outputs": [],
   "source": [
    "# Tarefa: Peça um número e exiba a tabuada (1 a 10).\n",
    "# Dica 1: laço for i in range(1, 11)\n",
    "# Dica 2: imprima n * i.\n",
    "# Escreva seu código abaixo:\n",
    "def q24():\n",
    "    n = int(input(\"Digite o Número: \"))\n",
    "    for i in range(1, 11):\n",
    "        print(n * i)"
   ]
  },
  {
   "cell_type": "markdown",
   "id": "a0c27954",
   "metadata": {},
   "source": [
    "## Questão 25\n",
    "Leia 5 números e calcule a soma."
   ]
  },
  {
   "cell_type": "code",
   "execution_count": null,
   "id": "d338a1e4",
   "metadata": {},
   "outputs": [],
   "source": [
    "# Tarefa: Leia 5 números e calcule a soma.\n",
    "# Dica 1: use laço e uma variável acumuladora soma.\n",
    "# Escreva seu código abaixo:\n",
    "def q25():\n",
    "    soma, valor = [], 0\n",
    "    for i in range(0, 5):\n",
    "        valor += 1\n",
    "        i = float(input(f\"Valor {valor}: \"))\n",
    "        soma.append(i)\n",
    "    print(sum(soma))"
   ]
  },
  {
   "cell_type": "markdown",
   "id": "ccf157ce",
   "metadata": {},
   "source": [
    "## Questão 26\n",
    "Leia 5 números e calcule a média."
   ]
  },
  {
   "cell_type": "code",
   "execution_count": null,
   "id": "7af1f68f",
   "metadata": {},
   "outputs": [],
   "source": [
    "# Tarefa: Leia 5 números e calcule a média.\n",
    "# Dica 1: some tudo e divida por 5 no final.\n",
    "# Escreva seu código abaixo:\n",
    "def q26():\n",
    "    soma, valor = [], 0\n",
    "    for i in range(0, 5):\n",
    "        valor += 1\n",
    "        i = float(input(f\"Valor {valor}: \"))\n",
    "        soma.append(i)\n",
    "    print(sum(soma) / 5)"
   ]
  },
  {
   "cell_type": "markdown",
   "id": "2cb2b0b6",
   "metadata": {},
   "source": [
    "## Questão 27\n",
    "Peça um número e calcule seu fatorial."
   ]
  },
  {
   "cell_type": "code",
   "execution_count": null,
   "id": "00cdea75",
   "metadata": {},
   "outputs": [],
   "source": [
    "# Tarefa: Peça um número e calcule seu fatorial.\n",
    "# Dica 1: inicie f=1\n",
    "# Dica 2: multiplique de 2 até n.\n",
    "# Escreva seu código abaixo:\n",
    "def q27():\n",
    "    try:\n",
    "        n = int(input(\"Digite um número: \"))\n",
    "        if n < 0:\n",
    "            print(\"Fatorial não é definido para números negativos.\")\n",
    "            return\n",
    "        resultado = 1\n",
    "        \n",
    "        for i in range(1, n + 1):\n",
    "            resultado *= i\n",
    "        print(f\"O fatorial de {n} é {resultado}.\")\n",
    "\n",
    "    except ValueError:\n",
    "        print(\"Erro: Por favor, digite um número inteiro.\")\n",
    "\n",
    "q27()"
   ]
  },
  {
   "cell_type": "markdown",
   "id": "3e8d8c10",
   "metadata": {},
   "source": [
    "## Questão 28\n",
    "Peça 5 nomes e exiba todos."
   ]
  },
  {
   "cell_type": "code",
   "execution_count": null,
   "id": "97c057a1",
   "metadata": {},
   "outputs": [],
   "source": [
    "# Tarefa: Peça 5 nomes e exiba todos.\n",
    "# Dica 1: guarde em lista; depois percorra e imprima.\n",
    "# Escreva seu código abaixo:\n",
    "def q28():\n",
    "    soma, valor = [], 0\n",
    "    for i in range(0, 5):\n",
    "        valor += 1\n",
    "        i = input(f\"Nome {valor}: \")\n",
    "        soma.append(i)\n",
    "    for i in soma:\n",
    "        print(i)"
   ]
  },
  {
   "cell_type": "markdown",
   "id": "2f55d4dc",
   "metadata": {},
   "source": [
    "## Questão 29\n",
    "Peça 5 idades e mostre a maior."
   ]
  },
  {
   "cell_type": "code",
   "execution_count": null,
   "id": "b3112d7b",
   "metadata": {},
   "outputs": [],
   "source": [
    "# Tarefa: Peça 5 idades e mostre a maior.\n",
    "# Dica 1: use variável 'maior' atualizada no laço.\n",
    "# Escreva seu código abaixo:\n",
    "def q18():\n",
    "    n1, n2, n3, n4, n5 = int(input(\"Idade 1: \")), int(input(\"Idade 2: \")), int(input(\"Idade 3: \")), int(input(\"Idade 4: \")), int(input(\"Idade 5: \"))\n",
    "    maior = max(n1, n2, n3, n4, n5)\n",
    "    print(f\"Maior Idade: {maior}\")"
   ]
  },
  {
   "cell_type": "markdown",
   "id": "2baa4b99",
   "metadata": {},
   "source": [
    "## Questão 30\n",
    "Peça números até digitar 0 e calcule a soma."
   ]
  },
  {
   "cell_type": "code",
   "execution_count": null,
   "id": "8d808e3f",
   "metadata": {},
   "outputs": [],
   "source": [
    "# Tarefa: Peça números até digitar 0 e calcule a soma.\n",
    "# Dica 1: use while True\n",
    "# Dica 2: se n==0: break\n",
    "# Dica 3: acumule soma.\n",
    "# Escreva seu código abaixo:\n",
    "def q30():\n",
    "    uI, soma = 1, 0\n",
    "    while uI != 0:\n",
    "        uI = int(input(\"Digite um número: \"))\n",
    "        soma += uI\n",
    "    print(f\"Soma: {soma}\")"
   ]
  },
  {
   "cell_type": "markdown",
   "id": "97e900af",
   "metadata": {},
   "source": [
    "## Questão 31\n",
    "Crie uma lista com 5 cursos do SENAI e exiba todos."
   ]
  },
  {
   "cell_type": "code",
   "execution_count": 64,
   "id": "b9c7ba08",
   "metadata": {},
   "outputs": [
    {
     "name": "stdout",
     "output_type": "stream",
     "text": [
      "['A', 'B', 'C', 'D']\n"
     ]
    },
    {
     "data": {
      "text/plain": [
       "['A', 'B', 'C', 'D']"
      ]
     },
     "execution_count": 64,
     "metadata": {},
     "output_type": "execute_result"
    }
   ],
   "source": [
    "# Tarefa: Crie uma lista com 5 cursos do SENAI e exiba todos.\n",
    "# Dica 1: crie lista literal ['A','B',...]\n",
    "# Dica 2: percorra com for e imprima.\n",
    "# Escreva seu código abaixo:\n",
    "def q31():\n",
    "    l = ['A', 'B', 'C', 'D']\n",
    "    print([i for i in l])\n",
    "    return l"
   ]
  },
  {
   "cell_type": "markdown",
   "id": "7796cca1",
   "metadata": {},
   "source": [
    "## Questão 32\n",
    "Adicione um novo curso à lista e exiba."
   ]
  },
  {
   "cell_type": "code",
   "execution_count": null,
   "id": "7e5903c8",
   "metadata": {},
   "outputs": [],
   "source": [
    "# Tarefa: Adicione um novo curso à lista e exiba.\n",
    "# Dica 1: lista.append('curso')\n",
    "# Dica 2: imprima a lista.\n",
    "# Escreva seu código abaixo:\n",
    "def q32(l):\n",
    "    l = l.append('curso')\n",
    "    print(l)\n",
    "\n",
    "q32(q31())"
   ]
  },
  {
   "cell_type": "markdown",
   "id": "e48a97a2",
   "metadata": {},
   "source": [
    "## Questão 33\n",
    "Peça 3 nomes e armazene em lista."
   ]
  },
  {
   "cell_type": "code",
   "execution_count": null,
   "id": "f0e89796",
   "metadata": {},
   "outputs": [],
   "source": [
    "# Tarefa: Peça 3 nomes e armazene em lista.\n",
    "# Dica 1: use input() 3 vezes e append().\n",
    "# Escreva seu código abaixo:\n",
    "def q33():\n",
    "    l, n1, n2, n3 = [], input(\"Nome 1: \"), input(\"Nome 2: \"), input(\"Nome 3: \")\n",
    "    l.extend([n1, n2, n3])\n",
    "    print(l)"
   ]
  },
  {
   "cell_type": "markdown",
   "id": "2bca7089",
   "metadata": {},
   "source": [
    "## Questão 34\n",
    "Peça 3 idades e exiba a média."
   ]
  },
  {
   "cell_type": "code",
   "execution_count": null,
   "id": "2a109733",
   "metadata": {},
   "outputs": [],
   "source": [
    "# Tarefa: Peça 3 idades e exiba a média.\n",
    "# Dica 1: converta para int()\n",
    "# Dica 2: some e / 3.\n",
    "# Escreva seu código abaixo:\n",
    "def q34():\n",
    "    soma, valor = [], 0\n",
    "    for i in range(0, 3):\n",
    "        valor += 1\n",
    "        i = float(input(f\"Valor {valor}: \"))\n",
    "        soma.append(i)\n",
    "    print(sum(soma) / 3)"
   ]
  },
  {
   "cell_type": "markdown",
   "id": "76bc808e",
   "metadata": {},
   "source": [
    "## Questão 35\n",
    "Crie um dicionário com nome, idade e curso."
   ]
  },
  {
   "cell_type": "code",
   "execution_count": 75,
   "id": "fd4ae223",
   "metadata": {},
   "outputs": [
    {
     "name": "stdout",
     "output_type": "stream",
     "text": [
      "{'nome': 'Teste', 'idade': 18, 'curso': 'Cursado'}\n",
      "{'nome': 'Teste', 'idade': 18, 'curso': 'Cursado'}\n"
     ]
    }
   ],
   "source": [
    "# Tarefa: Crie um dicionário com nome, idade e curso.\n",
    "# Dica 1: ex.: aluno={'nome':..., 'idade':..., 'curso':...}\n",
    "# Dica 2: imprima o dict.\n",
    "# Escreva seu código abaixo:\n",
    "def q35():\n",
    "    d = {'nome': 'Teste', 'idade': 18, 'curso': 'Cursado'}\n",
    "    print(d)\n",
    "    return d\n",
    "q35()"
   ]
  },
  {
   "cell_type": "markdown",
   "id": "2f00038f",
   "metadata": {},
   "source": [
    "## Questão 36\n",
    "Adicione uma chave 'nota' ao dicionário e exiba."
   ]
  },
  {
   "cell_type": "code",
   "execution_count": null,
   "id": "b136fc67",
   "metadata": {},
   "outputs": [],
   "source": [
    "# Tarefa: Adicione uma chave 'nota' ao dicionário e exiba.\n",
    "# Dica 1: aluno['nota']=valor\n",
    "# Dica 2: imprima novamente.\n",
    "# Escreva seu código abaixo:\n",
    "def q36():\n",
    "    d = q35()\n",
    "    d['nota'] = 10\n",
    "    print(d)"
   ]
  },
  {
   "cell_type": "markdown",
   "id": "413e9113",
   "metadata": {},
   "source": [
    "## Questão 37\n",
    "Peça uma frase e conte quantas palavras possui."
   ]
  },
  {
   "cell_type": "code",
   "execution_count": null,
   "id": "6f60222a",
   "metadata": {},
   "outputs": [],
   "source": [
    "# Tarefa: Peça uma frase e conte quantas palavras possui.\n",
    "# Dica 1: normalize espaços com .split()\n",
    "# Dica 2: len(lista_palavras).\n",
    "# Escreva seu código abaixo:\n",
    "def q37():\n",
    "    f = input(\"Frase: \").split()\n",
    "    print(len(f))"
   ]
  },
  {
   "cell_type": "markdown",
   "id": "1b05df35",
   "metadata": {},
   "source": [
    "## Questão 38\n",
    "Peça uma frase e conte quantas vogais possui."
   ]
  },
  {
   "cell_type": "code",
   "execution_count": null,
   "id": "28b5ab52",
   "metadata": {},
   "outputs": [],
   "source": [
    "# Tarefa: Peça uma frase e conte quantas vogais possui.\n",
    "# Dica 1: conte 'a e i o u' em maiúsc/minúsc\n",
    "# Dica 2: pode usar .lower().\n",
    "# Escreva seu código abaixo:\n",
    "def q38():\n",
    "    f, c = input(\"Frase: \").strip().title(), 0\n",
    "    for i in f:\n",
    "        if i in ('a', 'e', 'i', 'o', 'u'):\n",
    "            c += 1\n",
    "    print(f\"Vogais: {c}\")"
   ]
  },
  {
   "cell_type": "markdown",
   "id": "d5b188fa",
   "metadata": {},
   "source": [
    "## Questão 39\n",
    "Peça um nome e verifique se começa com 'A'."
   ]
  },
  {
   "cell_type": "code",
   "execution_count": null,
   "id": "fbfdb56a",
   "metadata": {},
   "outputs": [],
   "source": [
    "# Tarefa: Peça um nome e verifique se começa com 'A'.\n",
    "# Dica 1: use nome.upper().startswith('A')\n",
    "# Escreva seu código abaixo:\n",
    "def q39():\n",
    "    nome = input(\"Nome: \").title()\n",
    "    if nome.startswith('A'):\n",
    "        print(\"Nome Começa com A\")\n",
    "    else:\n",
    "        print(\"Não Começa com A\")"
   ]
  },
  {
   "cell_type": "markdown",
   "id": "fa663345",
   "metadata": {},
   "source": [
    "## Questão 40\n",
    "Peça um nome e exiba em maiúsculas."
   ]
  },
  {
   "cell_type": "code",
   "execution_count": null,
   "id": "bdc3e8e5",
   "metadata": {},
   "outputs": [],
   "source": [
    "# Tarefa: Peça um nome e exiba em maiúsculas.\n",
    "# Dica 1: use .upper() para converter.\n",
    "# Escreva seu código abaixo:\n",
    "def q40():\n",
    "    nome = input(\"Nome: \").upper()\n",
    "    print(nome)\n",
    "q40()"
   ]
  },
  {
   "cell_type": "markdown",
   "id": "4de24cd2",
   "metadata": {},
   "source": [
    "## Questão 41\n",
    "Crie uma função que receba um número e retorne o dobro."
   ]
  },
  {
   "cell_type": "code",
   "execution_count": null,
   "id": "662ee0c4",
   "metadata": {},
   "outputs": [],
   "source": [
    "# Tarefa: Crie uma função que receba um número e retorne o dobro.\n",
    "# Dica 1: def dobro(n): return n*2\n",
    "# Dica 2: teste com input().\n",
    "# Escreva seu código abaixo:\n",
    "def q41(n):\n",
    "    return n*2\n",
    "print(q41(float(input(\"Número: \"))))"
   ]
  },
  {
   "cell_type": "markdown",
   "id": "c87071bd",
   "metadata": {},
   "source": [
    "## Questão 42\n",
    "Crie uma função que receba dois números e retorne a soma."
   ]
  },
  {
   "cell_type": "code",
   "execution_count": null,
   "id": "15f4751d",
   "metadata": {},
   "outputs": [],
   "source": [
    "# Tarefa: Crie uma função que receba dois números e retorne a soma.\n",
    "# Dica 1: def soma(a,b): return a+b\n",
    "# Dica 2: imprima o retorno.\n",
    "# Escreva seu código abaixo:\n",
    "def q42(a, b):\n",
    "    return a+b\n",
    "print(q42(float(input(\"Número 1: \")),float(input(\"Número 1: \"))))"
   ]
  },
  {
   "cell_type": "markdown",
   "id": "2a717b80",
   "metadata": {},
   "source": [
    "## Questão 43\n",
    "Crie uma função que receba uma lista de números e retorne a média."
   ]
  },
  {
   "cell_type": "code",
   "execution_count": null,
   "id": "d5b15e12",
   "metadata": {},
   "outputs": [],
   "source": [
    "# Tarefa: Crie uma função que receba uma lista de números e retorne a média.\n",
    "# Dica 1: percorra com for e some\n",
    "# Dica 2: divida pelo tamanho da lista.\n",
    "# Escreva seu código abaixo:\n",
    "def q43(soma):\n",
    "    return sum(soma) / len(soma)\n",
    "q43([1, 2, 3, 4, 5])"
   ]
  },
  {
   "cell_type": "markdown",
   "id": "938c8ffd",
   "metadata": {},
   "source": [
    "## Questão 44\n",
    "Crie uma função que receba um nome e retorne uma saudação."
   ]
  },
  {
   "cell_type": "code",
   "execution_count": null,
   "id": "7829498c",
   "metadata": {},
   "outputs": [],
   "source": [
    "# Tarefa: Crie uma função que receba um nome e retorne uma saudação.\n",
    "# Dica 1: retorne f'Olá, {{nome}}'\n",
    "# Dica 2: imprima o retorno.\n",
    "# Escreva seu código abaixo:\n",
    "def q44(nome):\n",
    "    return f'Olá, {nome}'\n",
    "q44('Teste')"
   ]
  },
  {
   "cell_type": "markdown",
   "id": "286ffd92",
   "metadata": {},
   "source": [
    "## Questão 45\n",
    "Crie uma função que receba uma lista de nomes e retorne o nome mais curto."
   ]
  },
  {
   "cell_type": "code",
   "execution_count": 87,
   "id": "13f1b4b3",
   "metadata": {},
   "outputs": [
    {
     "name": "stdout",
     "output_type": "stream",
     "text": [
      "D\n"
     ]
    }
   ],
   "source": [
    "# Tarefa: Crie uma função que receba uma lista de nomes e retorne o nome mais curto.\n",
    "# Dica 1: assuma ao menos 1 nome\n",
    "# Dica 2: compare por len(nome).\n",
    "# Escreva seu código abaixo:\n",
    "def q45(nomes):\n",
    "    for i in nomes:\n",
    "        return min(i)\n",
    "print(q45([\"Dados\", \"dad\", \"da\"]))"
   ]
  },
  {
   "cell_type": "markdown",
   "id": "bee33d0c",
   "metadata": {},
   "source": [
    "## Questão 46\n",
    "Crie uma função que receba duas notas e retorne 'Aprovado' ou 'Reprovado'."
   ]
  },
  {
   "cell_type": "code",
   "execution_count": 88,
   "id": "238ebed6",
   "metadata": {},
   "outputs": [
    {
     "data": {
      "text/plain": [
       "'Reprovado'"
      ]
     },
     "execution_count": 88,
     "metadata": {},
     "output_type": "execute_result"
    }
   ],
   "source": [
    "# Tarefa: Crie uma função que receba duas notas e retorne 'Aprovado' ou 'Reprovado'.\n",
    "# Dica 1: média >= 7 → 'Aprovado'\n",
    "# Dica 2: senão 'Reprovado'.\n",
    "# Escreva seu código abaixo:\n",
    "def q46(n1, n2):\n",
    "    return \"Aprovado\" if n1/n2 >= 7 else \"Reprovado\"\n",
    "q46(7,8)"
   ]
  },
  {
   "cell_type": "markdown",
   "id": "48337882",
   "metadata": {},
   "source": [
    "## Questão 47\n",
    "Crie uma função que receba um número e retorne True se for par, False se ímpar."
   ]
  },
  {
   "cell_type": "code",
   "execution_count": null,
   "id": "9c3bd573",
   "metadata": {},
   "outputs": [],
   "source": [
    "# Tarefa: Crie uma função que receba um número e retorne True se for par, False se ímpar.\n",
    "# Dica 1: use n % 2 == 0 para avaliar.\n",
    "# Escreva seu código abaixo:\n",
    "def q47():\n",
    "    n1 = float(input(\"Número: \"))\n",
    "    return n1 % 2 == 0"
   ]
  },
  {
   "cell_type": "markdown",
   "id": "1824f7e1",
   "metadata": {},
   "source": [
    "## Questão 48\n",
    "Crie uma função que receba um dicionário de aluno e exiba todas as informações."
   ]
  },
  {
   "cell_type": "code",
   "execution_count": 92,
   "id": "c131958e",
   "metadata": {},
   "outputs": [
    {
     "ename": "ValueError",
     "evalue": "too many values to unpack (expected 2)",
     "output_type": "error",
     "traceback": [
      "\u001b[31m---------------------------------------------------------------------------\u001b[39m",
      "\u001b[31mValueError\u001b[39m                                Traceback (most recent call last)",
      "\u001b[36mCell\u001b[39m\u001b[36m \u001b[39m\u001b[32mIn[92]\u001b[39m\u001b[32m, line 9\u001b[39m\n\u001b[32m      6\u001b[39m     \u001b[38;5;28;01mfor\u001b[39;00m i, e \u001b[38;5;129;01min\u001b[39;00m d:\n\u001b[32m      7\u001b[39m         \u001b[38;5;28mprint\u001b[39m(\u001b[33mf\u001b[39m\u001b[33m\"\u001b[39m\u001b[38;5;132;01m{\u001b[39;00mi\u001b[38;5;132;01m}\u001b[39;00m\u001b[33m: \u001b[39m\u001b[38;5;132;01m{\u001b[39;00me\u001b[38;5;132;01m}\u001b[39;00m\u001b[33m\"\u001b[39m)\n\u001b[32m----> \u001b[39m\u001b[32m9\u001b[39m \u001b[43mq48\u001b[49m\u001b[43m(\u001b[49m\u001b[43m{\u001b[49m\u001b[33;43m'\u001b[39;49m\u001b[33;43mnome\u001b[39;49m\u001b[33;43m'\u001b[39;49m\u001b[43m:\u001b[49m\u001b[43m \u001b[49m\u001b[33;43m'\u001b[39;49m\u001b[33;43mTeste\u001b[39;49m\u001b[33;43m'\u001b[39;49m\u001b[43m,\u001b[49m\u001b[43m \u001b[49m\u001b[33;43m'\u001b[39;49m\u001b[33;43midade\u001b[39;49m\u001b[33;43m'\u001b[39;49m\u001b[43m:\u001b[49m\u001b[43m \u001b[49m\u001b[32;43m18\u001b[39;49m\u001b[43m,\u001b[49m\u001b[43m \u001b[49m\u001b[33;43m'\u001b[39;49m\u001b[33;43mcurso\u001b[39;49m\u001b[33;43m'\u001b[39;49m\u001b[43m:\u001b[49m\u001b[43m \u001b[49m\u001b[33;43m'\u001b[39;49m\u001b[33;43mCursado\u001b[39;49m\u001b[33;43m'\u001b[39;49m\u001b[43m}\u001b[49m\u001b[43m)\u001b[49m\n",
      "\u001b[36mCell\u001b[39m\u001b[36m \u001b[39m\u001b[32mIn[92]\u001b[39m\u001b[32m, line 6\u001b[39m, in \u001b[36mq48\u001b[39m\u001b[34m(d)\u001b[39m\n\u001b[32m      5\u001b[39m \u001b[38;5;28;01mdef\u001b[39;00m\u001b[38;5;250m \u001b[39m\u001b[34mq48\u001b[39m(d):\n\u001b[32m----> \u001b[39m\u001b[32m6\u001b[39m     \u001b[38;5;28;01mfor\u001b[39;00m i, e \u001b[38;5;129;01min\u001b[39;00m d:\n\u001b[32m      7\u001b[39m         \u001b[38;5;28mprint\u001b[39m(\u001b[33mf\u001b[39m\u001b[33m\"\u001b[39m\u001b[38;5;132;01m{\u001b[39;00mi\u001b[38;5;132;01m}\u001b[39;00m\u001b[33m: \u001b[39m\u001b[38;5;132;01m{\u001b[39;00me\u001b[38;5;132;01m}\u001b[39;00m\u001b[33m\"\u001b[39m)\n",
      "\u001b[31mValueError\u001b[39m: too many values to unpack (expected 2)"
     ]
    }
   ],
   "source": [
    "# Tarefa: Crie uma função que receba um dicionário de aluno e exiba todas as informações.\n",
    "# Dica 1: percorrer aluno.items()\n",
    "# Dica 2: imprimir 'chave: valor'.\n",
    "# Escreva seu código abaixo:\n",
    "def q48(d):\n",
    "    for i, e in d:\n",
    "        print(f\"{i}: {e}\")\n",
    "\n",
    "q48({'nome': 'Teste', 'idade': 18, 'curso': 'Cursado'})"
   ]
  },
  {
   "cell_type": "markdown",
   "id": "c3d3c91a",
   "metadata": {},
   "source": [
    "## Questão 49\n",
    "Crie uma função que receba uma lista de números e retorne apenas os pares."
   ]
  },
  {
   "cell_type": "code",
   "execution_count": null,
   "id": "f8924276",
   "metadata": {},
   "outputs": [],
   "source": [
    "# Tarefa: Crie uma função que receba uma lista de números e retorne apenas os pares.\n",
    "# Dica 1: construa lista nova; teste n%2==0; append nos pares.\n",
    "# Escreva seu código abaixo:\n",
    "def q49():\n",
    "    l = [1, 2, 3, 4, 5, 6, 7, 8, 9, 10]\n",
    "    return [i for i in l if i % 2 == 0]\n",
    "q49()"
   ]
  },
  {
   "cell_type": "markdown",
   "id": "19a67333",
   "metadata": {},
   "source": [
    "## Questão 50\n",
    "Crie um menu simples com 3 opções: ver média geral, ver alunos aprovados, sair."
   ]
  },
  {
   "cell_type": "code",
   "execution_count": null,
   "id": "14f0bfe5",
   "metadata": {},
   "outputs": [],
   "source": [
    "# Tarefa: Crie um menu simples com 3 opções: ver média geral, ver alunos aprovados, sair.\n",
    "# Dica 1: use while True + if/elif/else\n",
    "# Dica 2: opção '3' deve dar break.\n",
    "# Escreva seu código abaixo:\n",
    "def q50():\n",
    "    while True:\n",
    "        print(\"1- Ver média Geral, 2- Ver Alunos aprovados, 3- Sair\")\n",
    "        uI = input(\"Qual Opção?: \")\n",
    "        if uI == '3':\n",
    "            break"
   ]
  }
 ],
 "metadata": {
  "kernelspec": {
   "display_name": ".venv",
   "language": "python",
   "name": "python3"
  },
  "language_info": {
   "codemirror_mode": {
    "name": "ipython",
    "version": 3
   },
   "file_extension": ".py",
   "mimetype": "text/x-python",
   "name": "python",
   "nbconvert_exporter": "python",
   "pygments_lexer": "ipython3",
   "version": "3.12.5"
  }
 },
 "nbformat": 4,
 "nbformat_minor": 5
}
