{
 "cells": [
  {
   "cell_type": "code",
   "execution_count": 4,
   "metadata": {},
   "outputs": [],
   "source": [
    "def q1():\n",
    "    nome = input(\"Qual o Seu Nome?: \")\n",
    "    print(f\"Olá {nome}!\")"
   ]
  },
  {
   "cell_type": "code",
   "execution_count": 5,
   "metadata": {},
   "outputs": [],
   "source": [
    "# Questão 2\n",
    "def q2():\n",
    "    print(f\"Nome: {input('Qual o seu nome? ')}, Idade: {int(input('Qual a sua idade? '))}\")\n"
   ]
  },
  {
   "cell_type": "code",
   "execution_count": 6,
   "metadata": {},
   "outputs": [],
   "source": [
    "# Questão 3\n",
    "def q3():\n",
    "    print(f\"Você está matriculado no curso {input('Qual o nome do curso? ')}.\")\n"
   ]
  },
  {
   "cell_type": "code",
   "execution_count": 7,
   "metadata": {},
   "outputs": [],
   "source": [
    "# Questão 4\n",
    "def q4():\n",
    "    print(f\"Soma: {float(input('Número 1: ')) + float(input('Número 2: '))}\")\n"
   ]
  },
  {
   "cell_type": "code",
   "execution_count": 8,
   "metadata": {},
   "outputs": [],
   "source": [
    "# Questão 5\n",
    "def q5():\n",
    "    print(f\"Subtração: {float(input('Número 1: ')) - float(input('Número 2: '))}\")\n"
   ]
  },
  {
   "cell_type": "code",
   "execution_count": 9,
   "metadata": {},
   "outputs": [],
   "source": [
    "# Questão 6\n",
    "def q6():\n",
    "    print(f\"Multiplicação: {float(input('Número 1: ')) * float(input('Número 2: '))}\")\n"
   ]
  },
  {
   "cell_type": "code",
   "execution_count": 10,
   "metadata": {},
   "outputs": [],
   "source": [
    "# Questão 7\n",
    "def q7():\n",
    "    n1=float(input(\"Dividendo:\")); n2=float(input(\"Divisor:\")); print(\"Erro: Divisão por zero.\" if n2 == 0 else f\"Divisão: {n1/n2}\")\n"
   ]
  },
  {
   "cell_type": "code",
   "execution_count": 11,
   "metadata": {},
   "outputs": [],
   "source": [
    "# Questão 8\n",
    "def q8():\n",
    "    print(f'Dobro: {float(input(\"Número: \")) * 2}')\n"
   ]
  },
  {
   "cell_type": "code",
   "execution_count": 12,
   "metadata": {},
   "outputs": [],
   "source": [
    "# Questão 9\n",
    "def q9():\n",
    "    print(f'Quadrado: {float(input(\"Número: \")) ** 2}')\n"
   ]
  },
  {
   "cell_type": "code",
   "execution_count": 13,
   "metadata": {},
   "outputs": [],
   "source": [
    "# Questão 10\n",
    "def q10():\n",
    "    print(f\"Resto da divisão por 3: {float(input('Número: ')) % 3}\")\n"
   ]
  },
  {
   "cell_type": "code",
   "execution_count": 14,
   "metadata": {},
   "outputs": [],
   "source": [
    "# Questão 11\n",
    "def q11():\n",
    "    print(\"Maior de idade.\" if int(input(\"Qual a sua idade? \")) >= 18 else \"Menor de idade.\")\n"
   ]
  },
  {
   "cell_type": "code",
   "execution_count": 15,
   "metadata": {},
   "outputs": [],
   "source": [
    "# Questão 12\n",
    "def q12():\n",
    "    n=float(input(\"Número: \")); print(\"Positivo\" if n > 0 else \"Negativo\" if n < 0 else \"Zero\")\n"
   ]
  },
  {
   "cell_type": "code",
   "execution_count": 16,
   "metadata": {},
   "outputs": [],
   "source": [
    "# Questão 13\n",
    "def q13():\n",
    "    n1=float(input(\"Nota 1: \")); n2=float(input(\"Nota 2: \")); print(f\"Aprovado com média {(n1+n2)/2:.1f}\" if (n1+n2)/2 >= 7 else f\"Reprovado com média {(n1+n2)/2:.1f}\")\n"
   ]
  },
  {
   "cell_type": "code",
   "execution_count": 17,
   "metadata": {},
   "outputs": [],
   "source": [
    "# Questão 14\n",
    "def q14():\n",
    "    print(\"Par\" if int(input(\"Número: \")) % 2 == 0 else \"Ímpar\")\n"
   ]
  },
  {
   "cell_type": "code",
   "execution_count": 18,
   "metadata": {},
   "outputs": [],
   "source": [
    "# Questão 15\n",
    "def q15():\n",
    "    ano=int(input(\"Ano: \")); print(\"Bissexto\" if (ano % 4 == 0 and ano % 100 != 0) or (ano % 400 == 0) else \"Não Bissexto\")\n"
   ]
  },
  {
   "cell_type": "code",
   "execution_count": 19,
   "metadata": {},
   "outputs": [],
   "source": [
    "# Questão 16\n",
    "def q16():\n",
    "    print(\"Acesso concedido.\" if input(\"Senha: \") == '1234' else \"Acesso negado.\")\n"
   ]
  },
  {
   "cell_type": "code",
   "execution_count": 20,
   "metadata": {},
   "outputs": [],
   "source": [
    "# Questão 17\n",
    "def q17():\n",
    "    print(\"O nome é Carlos.\" if input(\"Nome: \").strip().lower() == 'carlos' else \"O nome não é Carlos.\")\n"
   ]
  },
  {
   "cell_type": "code",
   "execution_count": 21,
   "metadata": {},
   "outputs": [],
   "source": [
    "# Questão 18\n",
    "def q18():\n",
    "    print(f\"O maior é: {max(float(input('N1: ')), float(input('N2: ')), float(input('N3: ')))}\")\n"
   ]
  },
  {
   "cell_type": "code",
   "execution_count": 22,
   "metadata": {},
   "outputs": [],
   "source": [
    "# Questão 19\n",
    "def q19():\n",
    "    print(f\"O menor é: {min(float(input('N1: ')), float(input('N2: ')), float(input('N3: ')))}\")\n"
   ]
  },
  {
   "cell_type": "code",
   "execution_count": 23,
   "metadata": {},
   "outputs": [],
   "source": [
    "# Questão 20\n",
    "def q20():\n",
    "    idade=int(input(\"Idade: \")); print(\"Infantil\" if idade < 12 else \"Juvenil\" if idade < 18 else \"Adulto\")\n"
   ]
  },
  {
   "cell_type": "code",
   "execution_count": 24,
   "metadata": {},
   "outputs": [],
   "source": [
    "# Questão 21\n",
    "def q21():\n",
    "    print(*range(1, 11), sep='\\n')\n"
   ]
  },
  {
   "cell_type": "code",
   "execution_count": 25,
   "metadata": {},
   "outputs": [],
   "source": [
    "# Questão 22\n",
    "def q22():\n",
    "    print(*range(0, 21, 2), sep='\\n')\n"
   ]
  },
  {
   "cell_type": "code",
   "execution_count": 26,
   "metadata": {},
   "outputs": [],
   "source": [
    "# Questão 23\n",
    "def q23():\n",
    "    print(*range(1, 21, 2), sep='\\n')\n"
   ]
  },
  {
   "cell_type": "code",
   "execution_count": 27,
   "metadata": {},
   "outputs": [],
   "source": [
    "# Questão 24\n",
    "def q24():\n",
    "    n=int(input(\"Tabuada do: \")); print([f'{n} x {i} = {n*i}' for i in range(1, 11)], sep='\\n')\n"
   ]
  },
  {
   "cell_type": "code",
   "execution_count": 28,
   "metadata": {},
   "outputs": [],
   "source": [
    "# Questão 25\n",
    "def q25():\n",
    "    print(f\"Soma: {sum([float(input(f'N{i+1}: ')) for i in range(5)])}\")\n"
   ]
  },
  {
   "cell_type": "code",
   "execution_count": 29,
   "metadata": {},
   "outputs": [],
   "source": [
    "# Questão 26\n",
    "def q26():\n",
    "    numeros = [float(input(f'N{i+1}: ')) for i in range(5)]; print(f\"Média: {sum(numeros)/len(numeros)}\")\n"
   ]
  },
  {
   "cell_type": "code",
   "execution_count": 30,
   "metadata": {},
   "outputs": [],
   "source": [
    "# Questão 27\n",
    "def q27():\n",
    "    factorial = (lambda f: (lambda x: f(f, x)))(lambda f, x: x * f(f, x - 1) if x > 1 else 1); print(f\"Fatorial: {factorial(int(input('Número: ')))}\")\n"
   ]
  },
  {
   "cell_type": "code",
   "execution_count": 31,
   "metadata": {},
   "outputs": [],
   "source": [
    "# Questão 28\n",
    "def q28():\n",
    "    print(\"Nomes digitados:\\n\" + \"\\n\".join([input(f\"Nome {i+1}: \") for i in range(5)]))\n"
   ]
  },
  {
   "cell_type": "code",
   "execution_count": 32,
   "metadata": {},
   "outputs": [],
   "source": [
    "# Questão 29\n",
    "def q29():\n",
    "    print(f\"Maior idade: {max([int(input(f'Idade {i+1}: ')) for i in range(5)])}\")\n"
   ]
  },
  {
   "cell_type": "code",
   "execution_count": 33,
   "metadata": {},
   "outputs": [],
   "source": [
    "# Questão 30\n",
    "def q30():\n",
    "    print(f\"Soma: {sum(iter(lambda: int(input('N (0 para sair): ')), 0))}\")\n"
   ]
  },
  {
   "cell_type": "code",
   "execution_count": 34,
   "metadata": {},
   "outputs": [],
   "source": [
    "# Questão 31\n",
    "def q31():\n",
    "    print(*[\"Desenvolvimento de Sistemas\", \"Mecatrônica\", \"Eletrotécnica\", \"Automação\", \"Redes\"], sep='\\n')\n"
   ]
  },
  {
   "cell_type": "code",
   "execution_count": 35,
   "metadata": {},
   "outputs": [],
   "source": [
    "# Questão 32\n",
    "def q32():\n",
    "    cursos = [\"Mecatrônica\", \"Eletrotécnica\"]; cursos.append(\"Segurança do Trabalho\"); print(cursos)\n"
   ]
  },
  {
   "cell_type": "code",
   "execution_count": 36,
   "metadata": {},
   "outputs": [],
   "source": [
    "# Questão 33\n",
    "def q33():\n",
    "    print([input(f\"Nome {i+1}: \") for i in range(3)])\n"
   ]
  },
  {
   "cell_type": "code",
   "execution_count": 37,
   "metadata": {},
   "outputs": [],
   "source": [
    "# Questão 34\n",
    "def q34():\n",
    "    print(f\"Média: {sum([int(input(f'Idade {i+1}: ')) for i in range(3)])/3:.1f}\")\n"
   ]
  },
  {
   "cell_type": "code",
   "execution_count": 38,
   "metadata": {},
   "outputs": [],
   "source": [
    "# Questão 35\n",
    "def q35():\n",
    "    print({'nome': 'Ana Silva', 'idade': 22, 'curso': 'Sistemas'})\n"
   ]
  },
  {
   "cell_type": "code",
   "execution_count": 39,
   "metadata": {},
   "outputs": [],
   "source": [
    "# Questão 36\n",
    "def q36():\n",
    "    aluno={'nome': 'Ana', 'idade': 22}; aluno.update({'nota': 9.5}); print(aluno)\n"
   ]
  },
  {
   "cell_type": "code",
   "execution_count": 40,
   "metadata": {},
   "outputs": [],
   "source": [
    "# Questão 37\n",
    "def q37():\n",
    "    print(f\"Palavras: {len(input('Frase: ').split())}\")\n"
   ]
  },
  {
   "cell_type": "code",
   "execution_count": 41,
   "metadata": {},
   "outputs": [],
   "source": [
    "# Questão 38\n",
    "def q38():\n",
    "    print(f\"Vogais: {sum(1 for c in input('Frase: ').lower() if c in 'aeiou')}\")\n"
   ]
  },
  {
   "cell_type": "code",
   "execution_count": 42,
   "metadata": {},
   "outputs": [],
   "source": [
    "# Questão 39\n",
    "def q39():\n",
    "    print(\"Começa com 'A'\" if input(\"Nome: \").strip().upper().startswith('A') else \"Não começa com 'A'\")\n"
   ]
  },
  {
   "cell_type": "code",
   "execution_count": 43,
   "metadata": {},
   "outputs": [],
   "source": [
    "# Questão 40\n",
    "def q40():\n",
    "    print(input(\"Nome: \").upper())\n"
   ]
  },
  {
   "cell_type": "code",
   "execution_count": 44,
   "metadata": {},
   "outputs": [],
   "source": [
    "# Questão 41\n",
    "def q41():\n",
    "    print(f\"Dobro: {float(input('Número: ')) * 2}\")\n"
   ]
  },
  {
   "cell_type": "code",
   "execution_count": 45,
   "metadata": {},
   "outputs": [],
   "source": [
    "# Questão 42\n",
    "def q42():\n",
    "    print(f\"Soma: {float(input('N1: ')) + float(input('N2: '))}\")\n"
   ]
  },
  {
   "cell_type": "code",
   "execution_count": 46,
   "metadata": {},
   "outputs": [],
   "source": [
    "# Questão 43\n",
    "def q43():\n",
    "    print(f\"Média: {(lambda l: sum(l)/len(l) if l else 0)([10, 20, 30, 40, 50])}\")\n"
   ]
  },
  {
   "cell_type": "code",
   "execution_count": 47,
   "metadata": {},
   "outputs": [],
   "source": [
    "# Questão 44\n",
    "def q44():\n",
    "    print(f\"Olá, {input('Nome: ')}! Bem-vindo(a).\")\n"
   ]
  },
  {
   "cell_type": "code",
   "execution_count": 48,
   "metadata": {},
   "outputs": [],
   "source": [
    "# Questão 45\n",
    "def q45():\n",
    "    print(f\"Mais curto: {min(['Ana', 'Carlos', 'Bia', 'Alexandre'], key=len)}\")\n"
   ]
  },
  {
   "cell_type": "code",
   "execution_count": 49,
   "metadata": {},
   "outputs": [],
   "source": [
    "# Questão 46\n",
    "def q46():\n",
    "    print(\"Aprovado\" if (float(input(\"N1: \"))+float(input(\"N2: \")))/2 >= 7 else \"Reprovado\")\n"
   ]
  },
  {
   "cell_type": "code",
   "execution_count": 50,
   "metadata": {},
   "outputs": [],
   "source": [
    "# Questão 47\n",
    "def q47():\n",
    "    print(f\"É par? {int(input('Número: ')) % 2 == 0}\")\n"
   ]
  },
  {
   "cell_type": "code",
   "execution_count": 51,
   "metadata": {},
   "outputs": [],
   "source": [
    "# Questão 48\n",
    "def q48():\n",
    "    [print(f\"{k.title()}: {v}\") for k,v in {'nome':'Ricardo','idade':35,'curso':'Mecatrônica'}.items()]\n"
   ]
  },
  {
   "cell_type": "code",
   "execution_count": 52,
   "metadata": {},
   "outputs": [],
   "source": [
    "# Questão 49\n",
    "def q49():\n",
    "    print([i for i in range(1, 11) if i % 2 == 0])\n"
   ]
  },
  {
   "cell_type": "code",
   "execution_count": 53,
   "metadata": {},
   "outputs": [
    {
     "name": "stdout",
     "output_type": "stream",
     "text": [
      ">>> Média: 8.2\n",
      ">>> Média: 8.2\n",
      "Saindo...\n"
     ]
    }
   ],
   "source": [
    "def q50():\n",
    "    while (op := input(\"\\n1-Média\\n2-Aprovados\\n3-Sair\\nOpção: \")) != '3':\n",
    "        if op == '1': print(\">>> Média: 8.2\")\n",
    "        elif op == '2': print(\">>> Aprovados: Ana, Carlos\")\n",
    "        else: print(\"Inválido.\")\n",
    "    print(\"Saindo...\")"
   ]
  },
  {
   "cell_type": "code",
   "execution_count": null,
   "metadata": {},
   "outputs": [],
   "source": [
    "\n",
    "if __name__ == \"__main__\":\n",
    "    # Dicionário que mapeia o número da questão para a função correspondente\n",
    "    questoes = {\n",
    "        '1': q1, '2': q2, '3': q3, '4': q4, '5': q5, '6': q6, '7': q7, '8': q8, '9': q9, '10': q10,\n",
    "        '11': q11, '12': q12, '13': q13, '14': q14, '15': q15, '16': q16, '17': q17, '18': q18, '19': q19, '20': q20,\n",
    "        '21': q21, '22': q22, '23': q23, '24': q24, '25': q25, '26': q26, '27': q27, '28': q28, '29': q29, '30': q30,\n",
    "        '31': q31, '32': q32, '33': q33, '34': q34, '35': q35, '36': q36, '37': q37, '38': q38, '39': q39, '40': q40,\n",
    "        '41': q41, '42': q42, '43': q43, '44': q44, '45': q45, '46': q46, '47': q47, '48': q48, '49': q49, '50': q50,\n",
    "    }\n",
    "\n",
    "    while True:\n",
    "        print(\"\\n\" + \"=\"*50)\n",
    "        num_questao = input(\"Digite o número da questão que deseja executar (1-50) ou 'sair': \")\n",
    "        print(\"=\"*50 + \"\\n\")\n",
    "\n",
    "        if num_questao.lower() in ['sair', 'exit', 'q', '0']:\n",
    "            print(\"Programa finalizado.\")\n",
    "            break\n",
    "        \n",
    "        # Busca a função no dicionário\n",
    "        funcao_para_executar = questoes.get(num_questao)\n",
    "        \n",
    "        if funcao_para_executar:\n",
    "            print(f\"--- Executando Questão {num_questao} ---\")\n",
    "            funcao_para_executar()\n",
    "            print(f\"--- Fim da Questão {num_questao} ---\")\n",
    "        else:\n",
    "            print(\"Questão inválida. Por favor, digite um número entre 1 e 50.\")"
   ]
  }
 ],
 "metadata": {
  "language_info": {
   "codemirror_mode": {
    "name": "ipython",
    "version": 3
   },
   "file_extension": ".py",
   "mimetype": "text/x-python",
   "name": "python",
   "nbconvert_exporter": "python",
   "pygments_lexer": "ipython3",
   "version": 3
  }
 },
 "nbformat": 4,
 "nbformat_minor": 2
}
